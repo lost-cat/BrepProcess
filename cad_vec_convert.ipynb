{
 "cells": [
  {
   "metadata": {
    "ExecuteTime": {
     "end_time": "2024-09-08T07:34:24.543850Z",
     "start_time": "2024-09-08T07:34:24.496818Z"
    }
   },
   "cell_type": "code",
   "source": [
    "import glob\n",
    "import json\n",
    "import os.path\n",
    "\n",
    "jsonfile = 'data/fusion360/train_test.json'\n",
    "\n",
    "bin_files = glob.glob('data/fusion360/dgl/*.bin')\n",
    "\n",
    "names = [os.path.basename(f).split('.')[0] for f in bin_files]\n",
    "\n",
    "\n",
    "\n"
   ],
   "id": "5acc5f62666c29a",
   "outputs": [],
   "execution_count": 8
  },
  {
   "metadata": {
    "ExecuteTime": {
     "end_time": "2024-09-08T07:34:35.823406Z",
     "start_time": "2024-09-08T07:34:35.521170Z"
    }
   },
   "cell_type": "code",
   "source": [
    "from tqdm import tqdm\n",
    "\n",
    "new_jsonfile = 'data/fusion360/train_test_new.json'\n",
    "new_train_names = []\n",
    "new_test_names = []\n",
    "with open(jsonfile, 'r') as f:\n",
    "    data = json.load(f)\n",
    "    for name in tqdm(data['train']):\n",
    "        if name in names:\n",
    "            new_train_names.append(name)\n",
    "    for name in tqdm(data['test']):\n",
    "        if name in names:\n",
    "            new_test_names.append(name)"
   ],
   "id": "760edb3390f63182",
   "outputs": [
    {
     "name": "stderr",
     "output_type": "stream",
     "text": [
      "100%|██████████| 6900/6900 [00:00<00:00, 29527.11it/s]\n",
      "100%|██████████| 1725/1725 [00:00<00:00, 29213.32it/s]\n"
     ]
    }
   ],
   "execution_count": 9
  },
  {
   "metadata": {
    "ExecuteTime": {
     "end_time": "2024-09-08T07:35:11.688800Z",
     "start_time": "2024-09-08T07:35:11.682299Z"
    }
   },
   "cell_type": "code",
   "source": [
    "new_data = {'train': new_train_names, 'test': new_test_names}\n",
    "with open(new_jsonfile, 'w') as f:\n",
    "    json.dump(new_data, f)"
   ],
   "id": "12e685db48b810d6",
   "outputs": [],
   "execution_count": 10
  },
  {
   "metadata": {},
   "cell_type": "code",
   "outputs": [],
   "execution_count": null,
   "source": "",
   "id": "f060f01341e39a71"
  },
  {
   "metadata": {
    "ExecuteTime": {
     "end_time": "2024-09-02T13:54:25.988260Z",
     "start_time": "2024-09-02T13:54:25.970445Z"
    }
   },
   "cell_type": "code",
   "source": [
    "from source.cadlib.macro import EXTENT_TYPE, EXTRUDE_OPERATIONS\n",
    "\n",
    "\n",
    "def parse_extent_type(distance1, distance2):\n",
    "    if distance2 == 128:\n",
    "        return EXTENT_TYPE.index('OneSideFeatureExtentType')\n",
    "    if distance1 == distance2:\n",
    "        return EXTENT_TYPE.index('SymmetricFeatureExtentType')\n",
    "    else:\n",
    "        return EXTENT_TYPE.index('TwoSidesFeatureExtentType')\n",
    "\n",
    "\n",
    "def parse_command_type(command_type):\n",
    "    if command_type == 6:\n",
    "        command_type = 4\n",
    "    elif command_type == 7:\n",
    "        command_type = 5\n",
    "    elif command_type == 5:\n",
    "        command_type = 3\n",
    "    elif command_type == 4:\n",
    "        raise ValueError('command type error', command_type)\n",
    "\n",
    "    if command_type > 5:\n",
    "        raise ValueError('command type error', command_type)\n",
    "    return command_type\n",
    "\n",
    "\n",
    "def parse_extrude_operation(extrude_operation):\n",
    "    if extrude_operation == 0:\n",
    "        return EXTRUDE_OPERATIONS.index('NewBodyFeatureOperation')\n",
    "    elif extrude_operation == 1:\n",
    "        return EXTRUDE_OPERATIONS.index('CutFeatureOperation')\n",
    "    elif extrude_operation == 2:\n",
    "        return EXTRUDE_OPERATIONS.index('IntersectFeatureOperation')\n",
    "    elif extrude_operation < 0:\n",
    "        return -1\n",
    "    else:\n",
    "        raise ValueError('extrude operation error', extrude_operation)\n",
    "\n",
    "\n",
    "def single_cad_vec_convert(single_cad_vec):\n",
    "    command_type = parse_command_type(single_cad_vec[0])\n",
    "    new_params = single_cad_vec[1:15]\n",
    "\n",
    "    u = parse_extent_type(single_cad_vec[13], single_cad_vec[14])\n",
    "    if command_type != 5:\n",
    "        u = -1\n",
    "    b = parse_extrude_operation(single_cad_vec[19])\n",
    "    new_params = np.concatenate([new_params, np.array([b, u])])\n",
    "\n",
    "    assert len(new_params) == 16\n",
    "    return np.concatenate([np.array([command_type]), new_params])\n",
    "\n",
    "\n",
    "def cad_vec_convert(cad_vec):\n",
    "    length = cad_vec.shape[0]\n",
    "    new_cad_vecs = []\n",
    "    for i in range(length):\n",
    "        new_single_cad_vec = single_cad_vec_convert(cad_vec[i])\n",
    "        new_cad_vecs.append(new_single_cad_vec)\n",
    "    return np.array(new_cad_vecs)"
   ],
   "id": "f5b53d077b76357c",
   "outputs": [],
   "execution_count": 4
  },
  {
   "metadata": {
    "ExecuteTime": {
     "end_time": "2024-09-02T14:11:54.062745Z",
     "start_time": "2024-09-02T14:11:54.036583Z"
    }
   },
   "cell_type": "code",
   "source": "",
   "id": "c90e538fca23d05e",
   "outputs": [
    {
     "name": "stderr",
     "output_type": "stream",
     "text": [
      "100%|██████████| 20/20 [00:00<00:00, 1021.28it/s]\n"
     ]
    }
   ],
   "execution_count": 6
  },
  {
   "metadata": {
    "ExecuteTime": {
     "end_time": "2024-09-02T06:02:10.759810Z",
     "start_time": "2024-09-02T06:02:10.672646Z"
    }
   },
   "cell_type": "code",
   "source": "",
   "id": "c8a74d1de463b1c4",
   "outputs": [
    {
     "ename": "NameError",
     "evalue": "name 'init_display' is not defined",
     "output_type": "error",
     "traceback": [
      "\u001B[1;31m---------------------------------------------------------------------------\u001B[0m",
      "\u001B[1;31mNameError\u001B[0m                                 Traceback (most recent call last)",
      "Cell \u001B[1;32mIn[22], line 7\u001B[0m\n\u001B[0;32m      5\u001B[0m step_dir \u001B[38;5;241m=\u001B[39m \u001B[38;5;124m'\u001B[39m\u001B[38;5;124mdata/fusion360/reconstruction\u001B[39m\u001B[38;5;124m'\u001B[39m\n\u001B[0;32m      6\u001B[0m vec16_dir \u001B[38;5;241m=\u001B[39m \u001B[38;5;124m'\u001B[39m\u001B[38;5;124mdata/fusion360/vec16\u001B[39m\u001B[38;5;124m'\u001B[39m\n\u001B[1;32m----> 7\u001B[0m display, start_display, add_menu, add_function_to_menu \u001B[38;5;241m=\u001B[39m \u001B[43minit_display\u001B[49m()\n\u001B[0;32m      8\u001B[0m vec_step \u001B[38;5;241m=\u001B[39m os\u001B[38;5;241m.\u001B[39mpath\u001B[38;5;241m.\u001B[39mjoin(vec16_dir, )\n\u001B[0;32m      9\u001B[0m paths \u001B[38;5;241m=\u001B[39m glob\u001B[38;5;241m.\u001B[39mglob(os\u001B[38;5;241m.\u001B[39mpath\u001B[38;5;241m.\u001B[39mjoin(vec16_dir, \u001B[38;5;124m'\u001B[39m\u001B[38;5;124m*.h5\u001B[39m\u001B[38;5;124m'\u001B[39m))\n",
      "\u001B[1;31mNameError\u001B[0m: name 'init_display' is not defined"
     ]
    }
   ],
   "execution_count": 22
  }
 ],
 "metadata": {
  "kernelspec": {
   "display_name": "Python 3",
   "language": "python",
   "name": "python3"
  },
  "language_info": {
   "codemirror_mode": {
    "name": "ipython",
    "version": 2
   },
   "file_extension": ".py",
   "mimetype": "text/x-python",
   "name": "python",
   "nbconvert_exporter": "python",
   "pygments_lexer": "ipython2",
   "version": "2.7.6"
  }
 },
 "nbformat": 4,
 "nbformat_minor": 5
}
